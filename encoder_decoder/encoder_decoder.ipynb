{
 "cells": [
  {
   "cell_type": "markdown",
   "metadata": {},
   "source": [
    "Authors:\n",
    " - Fryderyk Róg 50122455\n",
    " - Katharina Mai 50101746\n",
    " - Arthur Lebeurrier 50181063"
   ]
  },
  {
   "cell_type": "markdown",
   "metadata": {},
   "source": [
    "The package we used for the task is called \"Pytorch\" one can simply install it using \n",
    "```\n",
    "pip install pytorch\n",
    "```"
   ]
  },
  {
   "cell_type": "code",
   "execution_count": 46,
   "metadata": {},
   "outputs": [],
   "source": [
    "import torch\n",
    "import torch.nn as nn\n",
    "import torch.optim as optim\n",
    "class MLP(nn.Module):\n",
    "    def __init__(self, input_size, hidden_size, output_size):\n",
    "        super(MLP, self).__init__()\n",
    "        self.hidden = nn.Linear(input_size, hidden_size)\n",
    "        self.relu = nn.ReLU() #ReLu seems like a logical choice since input values are either 0 or 1.\n",
    "        self.output = nn.Linear(hidden_size, output_size) #output size is essentially the same as input in this task\n",
    "        self.sigmoid = nn.Sigmoid()# we chose sigmoid, because it will yield a 0-1 value for each of N values,\n",
    "                                    # giving the most probable one, a value closer to 1\n",
    "\n",
    "    def forward(self, x): #here we also stack layers.\n",
    "        out = self.hidden(x) \n",
    "        out = self.relu(out)\n",
    "        out = self.output(out)\n",
    "        out = self.sigmoid(out)\n",
    "        return out\n",
    "    \n",
    "    def predict(self, x):\n",
    "        max_value = torch.max(x)\n",
    "        max_indices = (x == max_value)\n",
    "        y = torch.zeros_like(x)\n",
    "        y[max_indices] = 1\n",
    "        return y\n",
    "\n",
    "def train(model, inputs, targets, num_epochs, learning_rate):\n",
    "    criterion = nn.MSELoss()\n",
    "    optimizer = optim.SGD(model.parameters(), lr=learning_rate)\n",
    "\n",
    "    losses = []\n",
    "    for epoch in range(num_epochs):\n",
    "        outputs = model(inputs) #forward step\n",
    "        loss = criterion(outputs, targets) # loss calculation\n",
    "\n",
    "        optimizer.zero_grad() # reseting gradients so they don't accumulate\n",
    "        loss.backward() #backward error propagation\n",
    "        optimizer.step()\n",
    "        losses.append(loss.item())\n",
    "        if (epoch+1) % 100 == 0:\n",
    "            print(f'Epoch {epoch+1}/{num_epochs}, Loss: {loss.item()}')\n",
    "\n",
    "    return model, losses"
   ]
  },
  {
   "cell_type": "code",
   "execution_count": 47,
   "metadata": {},
   "outputs": [
    {
     "name": "stdout",
     "output_type": "stream",
     "text": [
      "Epoch 100/10000, Loss: 0.19935168325901031\n",
      "Epoch 200/10000, Loss: 0.15040354430675507\n",
      "Epoch 300/10000, Loss: 0.12203473597764969\n",
      "Epoch 400/10000, Loss: 0.10931225121021271\n",
      "Epoch 500/10000, Loss: 0.10343374311923981\n",
      "Epoch 600/10000, Loss: 0.10038498789072037\n",
      "Epoch 700/10000, Loss: 0.09857717156410217\n",
      "Epoch 800/10000, Loss: 0.09736350923776627\n",
      "Epoch 900/10000, Loss: 0.09646449983119965\n",
      "Epoch 1000/10000, Loss: 0.0957472175359726\n",
      "Epoch 1100/10000, Loss: 0.09514164924621582\n",
      "Epoch 1200/10000, Loss: 0.09460747241973877\n",
      "Epoch 1300/10000, Loss: 0.09411980211734772\n",
      "Epoch 1400/10000, Loss: 0.09366245567798615\n",
      "Epoch 1500/10000, Loss: 0.09322436153888702\n",
      "Epoch 1600/10000, Loss: 0.0927976742386818\n",
      "Epoch 1700/10000, Loss: 0.09237667918205261\n",
      "Epoch 1800/10000, Loss: 0.09195706248283386\n",
      "Epoch 1900/10000, Loss: 0.09153559803962708\n",
      "Epoch 2000/10000, Loss: 0.0911097377538681\n",
      "Epoch 2100/10000, Loss: 0.09067756682634354\n",
      "Epoch 2200/10000, Loss: 0.09023760259151459\n",
      "Epoch 2300/10000, Loss: 0.08978869020938873\n",
      "Epoch 2400/10000, Loss: 0.08933006227016449\n",
      "Epoch 2500/10000, Loss: 0.08886117488145828\n",
      "Epoch 2600/10000, Loss: 0.08838171511888504\n",
      "Epoch 2700/10000, Loss: 0.08789161592721939\n",
      "Epoch 2800/10000, Loss: 0.0873909741640091\n",
      "Epoch 2900/10000, Loss: 0.08688007295131683\n",
      "Epoch 3000/10000, Loss: 0.08635938167572021\n",
      "Epoch 3100/10000, Loss: 0.0858294740319252\n",
      "Epoch 3200/10000, Loss: 0.08529115468263626\n",
      "Epoch 3300/10000, Loss: 0.08474527299404144\n",
      "Epoch 3400/10000, Loss: 0.08419284224510193\n",
      "Epoch 3500/10000, Loss: 0.08363495767116547\n",
      "Epoch 3600/10000, Loss: 0.08307284116744995\n",
      "Epoch 3700/10000, Loss: 0.08250778168439865\n",
      "Epoch 3800/10000, Loss: 0.08194109052419662\n",
      "Epoch 3900/10000, Loss: 0.08137422800064087\n",
      "Epoch 4000/10000, Loss: 0.0808085948228836\n",
      "Epoch 4100/10000, Loss: 0.08024561405181885\n",
      "Epoch 4200/10000, Loss: 0.07968677580356598\n",
      "Epoch 4300/10000, Loss: 0.07913348823785782\n",
      "Epoch 4400/10000, Loss: 0.0785871371626854\n",
      "Epoch 4500/10000, Loss: 0.07804908603429794\n",
      "Epoch 4600/10000, Loss: 0.07752057909965515\n",
      "Epoch 4700/10000, Loss: 0.07700280845165253\n",
      "Epoch 4800/10000, Loss: 0.07649683952331543\n",
      "Epoch 4900/10000, Loss: 0.07600365579128265\n",
      "Epoch 5000/10000, Loss: 0.07552410662174225\n",
      "Epoch 5100/10000, Loss: 0.07505892217159271\n",
      "Epoch 5200/10000, Loss: 0.07460867613554001\n",
      "Epoch 5300/10000, Loss: 0.07417384535074234\n",
      "Epoch 5400/10000, Loss: 0.07375474274158478\n",
      "Epoch 5500/10000, Loss: 0.07335157692432404\n",
      "Epoch 5600/10000, Loss: 0.07296443730592728\n",
      "Epoch 5700/10000, Loss: 0.07259326428174973\n",
      "Epoch 5800/10000, Loss: 0.07223792374134064\n",
      "Epoch 5900/10000, Loss: 0.07189817726612091\n",
      "Epoch 6000/10000, Loss: 0.07157369703054428\n",
      "Epoch 6100/10000, Loss: 0.0712641179561615\n",
      "Epoch 6200/10000, Loss: 0.07096895575523376\n",
      "Epoch 6300/10000, Loss: 0.07068773359060287\n",
      "Epoch 6400/10000, Loss: 0.07041991502046585\n",
      "Epoch 6500/10000, Loss: 0.07016493380069733\n",
      "Epoch 6600/10000, Loss: 0.06992220133543015\n",
      "Epoch 6700/10000, Loss: 0.06969115883111954\n",
      "Epoch 6800/10000, Loss: 0.06947121024131775\n",
      "Epoch 6900/10000, Loss: 0.06926176697015762\n",
      "Epoch 7000/10000, Loss: 0.06906227767467499\n",
      "Epoch 7100/10000, Loss: 0.06887220591306686\n",
      "Epoch 7200/10000, Loss: 0.06869098544120789\n",
      "Epoch 7300/10000, Loss: 0.06851813942193985\n",
      "Epoch 7400/10000, Loss: 0.06835316121578217\n",
      "Epoch 7500/10000, Loss: 0.06819560378789902\n",
      "Epoch 7600/10000, Loss: 0.0680450052022934\n",
      "Epoch 7700/10000, Loss: 0.06790100783109665\n",
      "Epoch 7800/10000, Loss: 0.06776317954063416\n",
      "Epoch 7900/10000, Loss: 0.06763115525245667\n",
      "Epoch 8000/10000, Loss: 0.0675046369433403\n",
      "Epoch 8100/10000, Loss: 0.06738325208425522\n",
      "Epoch 8200/10000, Loss: 0.06726675480604172\n",
      "Epoch 8300/10000, Loss: 0.06715482473373413\n",
      "Epoch 8400/10000, Loss: 0.06704723089933395\n",
      "Epoch 8500/10000, Loss: 0.06694374233484268\n",
      "Epoch 8600/10000, Loss: 0.06684412062168121\n",
      "Epoch 8700/10000, Loss: 0.06674815714359283\n",
      "Epoch 8800/10000, Loss: 0.06665565073490143\n",
      "Epoch 8900/10000, Loss: 0.06656642258167267\n",
      "Epoch 9000/10000, Loss: 0.06648032367229462\n",
      "Epoch 9100/10000, Loss: 0.06639718264341354\n",
      "Epoch 9200/10000, Loss: 0.06631685048341751\n",
      "Epoch 9300/10000, Loss: 0.06623917818069458\n",
      "Epoch 9400/10000, Loss: 0.0661640465259552\n",
      "Epoch 9500/10000, Loss: 0.06609133630990982\n",
      "Epoch 9600/10000, Loss: 0.06602094322443008\n",
      "Epoch 9700/10000, Loss: 0.06595274060964584\n",
      "Epoch 9800/10000, Loss: 0.06588663160800934\n",
      "Epoch 9900/10000, Loss: 0.065822534263134\n",
      "Epoch 10000/10000, Loss: 0.06576035171747208\n"
     ]
    }
   ],
   "source": [
    "# Define the input and target tensors for the 8-3-8 task\n",
    "inputs = torch.tensor([[0, 0, 0, 0, 0, 0, 0, 0],\n",
    "                       [0, 0, 0, 0, 1, 0, 0, 0],\n",
    "                       [0, 0, 0, 1, 0, 0, 0, 0],\n",
    "                       [0, 0, 0, 1, 1, 0, 0, 0],\n",
    "                       [0, 0, 1, 0, 0, 0, 0, 0],\n",
    "                       [0, 0, 1, 0, 1, 0, 0, 0],\n",
    "                       [0, 0, 1, 1, 0, 0, 0, 0],\n",
    "                       [0, 0, 1, 1, 1, 0, 0, 0]], dtype=torch.float32)\n",
    "targets = inputs.clone()\n",
    "\n",
    "# Create and train the model\n",
    "model = MLP(8, 3, 8)\n",
    "model, losses = train(model, inputs, targets, num_epochs=10000, learning_rate=0.1)\n",
    "predictions = model.predict(inputs)\n"
   ]
  },
  {
   "cell_type": "code",
   "execution_count": 48,
   "metadata": {},
   "outputs": [
    {
     "data": {
      "text/plain": [
       "tensor([[0., 0., 0., 0., 0., 0., 0., 0.],\n",
       "        [0., 0., 0., 0., 1., 0., 0., 0.],\n",
       "        [0., 0., 0., 1., 0., 0., 0., 0.],\n",
       "        [0., 0., 0., 1., 1., 0., 0., 0.],\n",
       "        [0., 0., 1., 0., 0., 0., 0., 0.],\n",
       "        [0., 0., 1., 0., 1., 0., 0., 0.],\n",
       "        [0., 0., 1., 1., 0., 0., 0., 0.],\n",
       "        [0., 0., 1., 1., 1., 0., 0., 0.]])"
      ]
     },
     "execution_count": 48,
     "metadata": {},
     "output_type": "execute_result"
    }
   ],
   "source": [
    "predictions # Predictions look good (the same as inputs)"
   ]
  },
  {
   "cell_type": "code",
   "execution_count": 49,
   "metadata": {},
   "outputs": [],
   "source": [
    "import matplotlib.pyplot as plt"
   ]
  },
  {
   "cell_type": "code",
   "execution_count": 50,
   "metadata": {},
   "outputs": [
    {
     "data": {
      "image/png": "[encoded data removed]",
      "text/plain": [
       "<Figure size 640x480 with 1 Axes>"
      ]
     },
     "metadata": {},
     "output_type": "display_data"
    }
   ],
   "source": [
    "# Plot the learning curve\n",
    "plt.plot(losses)\n",
    "plt.xlabel('Epoch')\n",
    "plt.ylabel('Loss')\n",
    "plt.show()"
   ]
  },
  {
   "cell_type": "code",
   "execution_count": 51,
   "metadata": {},
   "outputs": [
    {
     "name": "stdout",
     "output_type": "stream",
     "text": [
      "Input: tensor([[0., 0., 0., 0., 0., 0., 0., 0.],\n",
      "        [0., 0., 0., 0., 1., 0., 0., 0.],\n",
      "        [0., 0., 0., 1., 0., 0., 0., 0.],\n",
      "        [0., 0., 0., 1., 1., 0., 0., 0.],\n",
      "        [0., 0., 1., 0., 0., 0., 0., 0.],\n",
      "        [0., 0., 1., 0., 1., 0., 0., 0.],\n",
      "        [0., 0., 1., 1., 0., 0., 0., 0.],\n",
      "        [0., 0., 1., 1., 1., 0., 0., 0.]])\n",
      "Output: tensor([[1.1860e-01, 9.8070e-02, 1.1442e-01, 2.5796e-01, 1.7320e-01, 9.4170e-02,\n",
      "         1.0095e-01, 1.1340e-01],\n",
      "        [9.7037e-03, 1.2854e-02, 3.5865e-01, 4.1981e-01, 3.8416e-01, 1.4131e-02,\n",
      "         1.2233e-02, 1.0840e-02],\n",
      "        [2.2185e-02, 2.5063e-02, 2.5907e-01, 3.6390e-01, 3.0542e-01, 2.6336e-02,\n",
      "         2.4488e-02, 2.3520e-02],\n",
      "        [1.6495e-03, 3.0692e-03, 6.0214e-01, 5.4353e-01, 5.6698e-01, 3.7156e-03,\n",
      "         2.7611e-03, 2.0593e-03],\n",
      "        [4.1897e-03, 6.5218e-03, 4.7293e-01, 4.7827e-01, 4.7009e-01, 7.5056e-03,\n",
      "         6.0429e-03, 4.9341e-03],\n",
      "        [3.0630e-04, 7.8554e-04, 7.9524e-01, 6.5613e-01, 7.2540e-01, 1.0416e-03,\n",
      "         6.7011e-04, 4.2464e-04],\n",
      "        [7.0892e-04, 1.5496e-03, 7.0832e-01, 6.0136e-01, 6.5060e-01, 1.9638e-03,\n",
      "         1.3574e-03, 9.3285e-04],\n",
      "        [5.1661e-05, 1.8583e-04, 9.1313e-01, 7.5845e-01, 8.4721e-01, 2.7122e-04,\n",
      "         1.4989e-04, 7.9989e-05]], grad_fn=<SigmoidBackward0>)\n"
     ]
    }
   ],
   "source": [
    "# Print the resulting input and output values\n",
    "print('Input:', inputs)\n",
    "print('Output:', model(inputs))"
   ]
  },
  {
   "cell_type": "code",
   "execution_count": 52,
   "metadata": {},
   "outputs": [
    {
     "data": {
      "image/png": "[encoded data removed]",
      "text/plain": [
       "<Figure size 640x480 with 8 Axes>"
      ]
     },
     "metadata": {},
     "output_type": "display_data"
    }
   ],
   "source": [
    "# Visualize the states of the hidden neurons\n",
    "hidden_states = model.hidden(inputs).detach()\n",
    "for i in range(8):\n",
    "    plt.subplot(2, 4, i+1)\n",
    "    plt.imshow(hidden_states[i].reshape(1, 3), cmap='autumn')\n",
    "    plt.axis('off')\n",
    "plt.show()"
   ]
  },
  {
   "cell_type": "code",
   "execution_count": 53,
   "metadata": {},
   "outputs": [
    {
     "name": "stdout",
     "output_type": "stream",
     "text": [
      "tensor([[ 8.3764e-01, -3.0226e-01, -2.9183e-01],\n",
      "        [ 2.5298e+00, -1.3581e-01, -1.4041e-01],\n",
      "        [ 1.9875e+00, -2.5817e-01, -4.3962e-01],\n",
      "        [ 3.6797e+00, -9.1709e-02, -2.8820e-01],\n",
      "        [ 3.0760e+00, -2.1121e-01, -3.7734e-01],\n",
      "        [ 4.7682e+00, -4.4755e-02, -2.2592e-01],\n",
      "        [ 4.2258e+00, -1.6711e-01, -5.2513e-01],\n",
      "        [ 5.9180e+00, -6.5720e-04, -3.7371e-01]])\n"
     ]
    }
   ],
   "source": [
    "print(hidden_states) "
   ]
  },
  {
   "cell_type": "markdown",
   "metadata": {},
   "source": [
    "The explainability of hidden neurons is largely unknown. matplotlib visualization does not really explain anything either. That's why enither the numbers nor the plot above, explain anything what is going on here. It must be noted that the states of the hidden neurons differ from each other, which can be seen in the numbers. It is not seen on the plot. The same issue may be in the 8-2-8 case"
   ]
  },
  {
   "cell_type": "markdown",
   "metadata": {},
   "source": [
    "8-2-8 case"
   ]
  },
  {
   "cell_type": "code",
   "execution_count": 59,
   "metadata": {},
   "outputs": [
    {
     "name": "stdout",
     "output_type": "stream",
     "text": [
      "Epoch 100/10000, Loss: 0.22917883098125458\n",
      "Epoch 200/10000, Loss: 0.19498413801193237\n",
      "Epoch 300/10000, Loss: 0.17070381343364716\n",
      "Epoch 400/10000, Loss: 0.15382681787014008\n",
      "Epoch 500/10000, Loss: 0.1419743448495865\n",
      "Epoch 600/10000, Loss: 0.13344018161296844\n",
      "Epoch 700/10000, Loss: 0.12711380422115326\n",
      "Epoch 800/10000, Loss: 0.12236571311950684\n",
      "Epoch 900/10000, Loss: 0.11868178844451904\n",
      "Epoch 1000/10000, Loss: 0.11576002091169357\n",
      "Epoch 1100/10000, Loss: 0.11339810490608215\n",
      "Epoch 1200/10000, Loss: 0.11145669221878052\n",
      "Epoch 1300/10000, Loss: 0.10983757674694061\n",
      "Epoch 1400/10000, Loss: 0.1084699034690857\n",
      "Epoch 1500/10000, Loss: 0.10730158537626266\n",
      "Epoch 1600/10000, Loss: 0.10629357397556305\n",
      "Epoch 1700/10000, Loss: 0.10541611164808273\n",
      "Epoch 1800/10000, Loss: 0.104646235704422\n",
      "Epoch 1900/10000, Loss: 0.1039658933877945\n",
      "Epoch 2000/10000, Loss: 0.10336081683635712\n",
      "Epoch 2100/10000, Loss: 0.10281950235366821\n",
      "Epoch 2200/10000, Loss: 0.1023326888680458\n",
      "Epoch 2300/10000, Loss: 0.10189274698495865\n",
      "Epoch 2400/10000, Loss: 0.10149339586496353\n",
      "Epoch 2500/10000, Loss: 0.1011294275522232\n",
      "Epoch 2600/10000, Loss: 0.10079644620418549\n",
      "Epoch 2700/10000, Loss: 0.1004907563328743\n",
      "Epoch 2800/10000, Loss: 0.10020921379327774\n",
      "Epoch 2900/10000, Loss: 0.09994914382696152\n",
      "Epoch 3000/10000, Loss: 0.09970822930335999\n",
      "Epoch 3100/10000, Loss: 0.09948448836803436\n",
      "Epoch 3200/10000, Loss: 0.09927618503570557\n",
      "Epoch 3300/10000, Loss: 0.09908180683851242\n",
      "Epoch 3400/10000, Loss: 0.09890004247426987\n",
      "Epoch 3500/10000, Loss: 0.09872972965240479\n",
      "Epoch 3600/10000, Loss: 0.0985698401927948\n",
      "Epoch 3700/10000, Loss: 0.09841945767402649\n",
      "Epoch 3800/10000, Loss: 0.09827779233455658\n",
      "Epoch 3900/10000, Loss: 0.09814411401748657\n",
      "Epoch 4000/10000, Loss: 0.09801778942346573\n",
      "Epoch 4100/10000, Loss: 0.0978982150554657\n",
      "Epoch 4200/10000, Loss: 0.09778491407632828\n",
      "Epoch 4300/10000, Loss: 0.09767737984657288\n",
      "Epoch 4400/10000, Loss: 0.09757523238658905\n",
      "Epoch 4500/10000, Loss: 0.09747805446386337\n",
      "Epoch 4600/10000, Loss: 0.09738548845052719\n",
      "Epoch 4700/10000, Loss: 0.09729725122451782\n",
      "Epoch 4800/10000, Loss: 0.0972130224108696\n",
      "Epoch 4900/10000, Loss: 0.09713257104158401\n",
      "Epoch 5000/10000, Loss: 0.09705562144517899\n",
      "Epoch 5100/10000, Loss: 0.09698198735713959\n",
      "Epoch 5200/10000, Loss: 0.09691143780946732\n",
      "Epoch 5300/10000, Loss: 0.09684378653764725\n",
      "Epoch 5400/10000, Loss: 0.09677888453006744\n",
      "Epoch 5500/10000, Loss: 0.09671655297279358\n",
      "Epoch 5600/10000, Loss: 0.09665664285421371\n",
      "Epoch 5700/10000, Loss: 0.0965990275144577\n",
      "Epoch 5800/10000, Loss: 0.0965435728430748\n",
      "Epoch 5900/10000, Loss: 0.09649016708135605\n",
      "Epoch 6000/10000, Loss: 0.0964386984705925\n",
      "Epoch 6100/10000, Loss: 0.0963890478014946\n",
      "Epoch 6200/10000, Loss: 0.09634115546941757\n",
      "Epoch 6300/10000, Loss: 0.09629490971565247\n",
      "Epoch 6400/10000, Loss: 0.09625023603439331\n",
      "Epoch 6500/10000, Loss: 0.09620705991983414\n",
      "Epoch 6600/10000, Loss: 0.09616528451442719\n",
      "Epoch 6700/10000, Loss: 0.09612488746643066\n",
      "Epoch 6800/10000, Loss: 0.09608574956655502\n",
      "Epoch 6900/10000, Loss: 0.09604786336421967\n",
      "Epoch 7000/10000, Loss: 0.09601114690303802\n",
      "Epoch 7100/10000, Loss: 0.09597553312778473\n",
      "Epoch 7200/10000, Loss: 0.09594101458787918\n",
      "Epoch 7300/10000, Loss: 0.09590750187635422\n",
      "Epoch 7400/10000, Loss: 0.09587496519088745\n",
      "Epoch 7500/10000, Loss: 0.09584338963031769\n",
      "Epoch 7600/10000, Loss: 0.09581269323825836\n",
      "Epoch 7700/10000, Loss: 0.09578286111354828\n",
      "Epoch 7800/10000, Loss: 0.09575385600328445\n",
      "Epoch 7900/10000, Loss: 0.0957256406545639\n",
      "Epoch 8000/10000, Loss: 0.09569820016622543\n",
      "Epoch 8100/10000, Loss: 0.09567146003246307\n",
      "Epoch 8200/10000, Loss: 0.09564544260501862\n",
      "Epoch 8300/10000, Loss: 0.09562011063098907\n",
      "Epoch 8400/10000, Loss: 0.09559542685747147\n",
      "Epoch 8500/10000, Loss: 0.0955713540315628\n",
      "Epoch 8600/10000, Loss: 0.09554789215326309\n",
      "Epoch 8700/10000, Loss: 0.09552500396966934\n",
      "Epoch 8800/10000, Loss: 0.09550268203020096\n",
      "Epoch 8900/10000, Loss: 0.09548089653253555\n",
      "Epoch 9000/10000, Loss: 0.09545964002609253\n",
      "Epoch 9100/10000, Loss: 0.0954388752579689\n",
      "Epoch 9200/10000, Loss: 0.09541859477758408\n",
      "Epoch 9300/10000, Loss: 0.09539879113435745\n",
      "Epoch 9400/10000, Loss: 0.09537943452596664\n",
      "Epoch 9500/10000, Loss: 0.09536051750183105\n",
      "Epoch 9600/10000, Loss: 0.09534202516078949\n",
      "Epoch 9700/10000, Loss: 0.09532393515110016\n",
      "Epoch 9800/10000, Loss: 0.09530625492334366\n",
      "Epoch 9900/10000, Loss: 0.095288947224617\n",
      "Epoch 10000/10000, Loss: 0.0952720046043396\n"
     ]
    }
   ],
   "source": [
    "# Define the input and target tensors for the 8-3-8 task\n",
    "inputs = torch.tensor([[0, 0, 0, 0, 0, 0, 0, 0],\n",
    "                       [0, 0, 0, 0, 1, 0, 0, 0],\n",
    "                       [0, 0, 0, 1, 0, 0, 0, 0],\n",
    "                       [0, 0, 0, 1, 1, 0, 0, 0],\n",
    "                       [0, 0, 1, 0, 0, 0, 0, 0],\n",
    "                       [0, 0, 1, 0, 1, 0, 0, 0],\n",
    "                       [0, 0, 1, 1, 0, 0, 0, 0],\n",
    "                       [0, 0, 1, 1, 1, 0, 0, 0]], dtype=torch.float32)\n",
    "targets = inputs.clone()\n",
    "# Create and train the model\n",
    "model = MLP(8, 2, 8)\n",
    "model, losses = train(model, inputs, targets, num_epochs=10000, learning_rate=0.1)\n",
    "predictions = model.predict(inputs)"
   ]
  },
  {
   "cell_type": "code",
   "execution_count": 60,
   "metadata": {},
   "outputs": [
    {
     "data": {
      "image/png": "[encoded data removed]",
      "text/plain": [
       "<Figure size 640x480 with 1 Axes>"
      ]
     },
     "metadata": {},
     "output_type": "display_data"
    }
   ],
   "source": [
    "# Plot the learning curve\n",
    "plt.plot(losses)\n",
    "plt.xlabel('Epoch')\n",
    "plt.ylabel('Loss')\n",
    "plt.show()"
   ]
  },
  {
   "cell_type": "markdown",
   "metadata": {},
   "source": [
    "It is harded to train 8-2-8 model (using same hyperparameters as in 8-3-8 model above). The achieved loss is higher. That is because there are fewer neurons in this model, thus in the same circumstances as before, it may underfit. "
   ]
  },
  {
   "cell_type": "code",
   "execution_count": 61,
   "metadata": {},
   "outputs": [
    {
     "data": {
      "image/png": "[encoded data removed]",
      "text/plain": [
       "<Figure size 640x480 with 8 Axes>"
      ]
     },
     "metadata": {},
     "output_type": "display_data"
    }
   ],
   "source": [
    "# Visualize the states of the hidden neurons\n",
    "hidden_states = model.hidden(inputs).detach()\n",
    "for i in range(8):\n",
    "    plt.subplot(2, 4, i+1)\n",
    "    plt.imshow(hidden_states[i].reshape(1, 2), cmap='autumn')\n",
    "    plt.axis('off')\n",
    "plt.show()"
   ]
  },
  {
   "cell_type": "code",
   "execution_count": 62,
   "metadata": {},
   "outputs": [
    {
     "name": "stdout",
     "output_type": "stream",
     "text": [
      "tensor([[-3.3377e-01, -2.1955e-01],\n",
      "        [-1.5789e-01, -1.4417e-01],\n",
      "        [-5.9266e-01, -3.3217e-01],\n",
      "        [-4.1678e-01, -2.5679e-01],\n",
      "        [-1.7606e-01, -4.4357e-01],\n",
      "        [-1.8376e-04, -3.6819e-01],\n",
      "        [-4.3495e-01, -5.5618e-01],\n",
      "        [-2.5907e-01, -4.8081e-01]])\n"
     ]
    }
   ],
   "source": [
    "print(hidden_states)"
   ]
  },
  {
   "cell_type": "markdown",
   "metadata": {},
   "source": [
    "50 - 2 - 50 case"
   ]
  },
  {
   "cell_type": "code",
   "execution_count": 63,
   "metadata": {},
   "outputs": [
    {
     "name": "stdout",
     "output_type": "stream",
     "text": [
      "Epoch 100/10000, Loss: 0.2539485991001129\n",
      "Epoch 200/10000, Loss: 0.2431824654340744\n",
      "Epoch 300/10000, Loss: 0.23285658657550812\n",
      "Epoch 400/10000, Loss: 0.2229740470647812\n",
      "Epoch 500/10000, Loss: 0.21353261172771454\n",
      "Epoch 600/10000, Loss: 0.2045290172100067\n",
      "Epoch 700/10000, Loss: 0.19596007466316223\n",
      "Epoch 800/10000, Loss: 0.1878179907798767\n",
      "Epoch 900/10000, Loss: 0.18009358644485474\n",
      "Epoch 1000/10000, Loss: 0.1727755069732666\n",
      "Epoch 1100/10000, Loss: 0.16584964096546173\n",
      "Epoch 1200/10000, Loss: 0.15930134057998657\n",
      "Epoch 1300/10000, Loss: 0.153114914894104\n",
      "Epoch 1400/10000, Loss: 0.14727409183979034\n",
      "Epoch 1500/10000, Loss: 0.14176201820373535\n",
      "Epoch 1600/10000, Loss: 0.13656187057495117\n",
      "Epoch 1700/10000, Loss: 0.13165678083896637\n",
      "Epoch 1800/10000, Loss: 0.12703026831150055\n",
      "Epoch 1900/10000, Loss: 0.12266623228788376\n",
      "Epoch 2000/10000, Loss: 0.11854909360408783\n",
      "Epoch 2100/10000, Loss: 0.11466391384601593\n",
      "Epoch 2200/10000, Loss: 0.11099636554718018\n",
      "Epoch 2300/10000, Loss: 0.10753283649682999\n",
      "Epoch 2400/10000, Loss: 0.10426048934459686\n",
      "Epoch 2500/10000, Loss: 0.10116716474294662\n",
      "Epoch 2600/10000, Loss: 0.0982414186000824\n",
      "Epoch 2700/10000, Loss: 0.0954725369811058\n",
      "Epoch 2800/10000, Loss: 0.09285049140453339\n",
      "Epoch 2900/10000, Loss: 0.09036585688591003\n",
      "Epoch 3000/10000, Loss: 0.08800987154245377\n",
      "Epoch 3100/10000, Loss: 0.08577433973550797\n",
      "Epoch 3200/10000, Loss: 0.08365164697170258\n",
      "Epoch 3300/10000, Loss: 0.08163468539714813\n",
      "Epoch 3400/10000, Loss: 0.07971686124801636\n",
      "Epoch 3500/10000, Loss: 0.07789198309183121\n",
      "Epoch 3600/10000, Loss: 0.07615437358617783\n",
      "Epoch 3700/10000, Loss: 0.07449866086244583\n",
      "Epoch 3800/10000, Loss: 0.07291992008686066\n",
      "Epoch 3900/10000, Loss: 0.0714135468006134\n",
      "Epoch 4000/10000, Loss: 0.06997520476579666\n",
      "Epoch 4100/10000, Loss: 0.06860093772411346\n",
      "Epoch 4200/10000, Loss: 0.06728700548410416\n",
      "Epoch 4300/10000, Loss: 0.06602994352579117\n",
      "Epoch 4400/10000, Loss: 0.06482651829719543\n",
      "Epoch 4500/10000, Loss: 0.06367369741201401\n",
      "Epoch 4600/10000, Loss: 0.06256870180368423\n",
      "Epoch 4700/10000, Loss: 0.06150887534022331\n",
      "Epoch 4800/10000, Loss: 0.06049177423119545\n",
      "Epoch 4900/10000, Loss: 0.05951510742306709\n",
      "Epoch 5000/10000, Loss: 0.05857672169804573\n",
      "Epoch 5100/10000, Loss: 0.05767460912466049\n",
      "Epoch 5200/10000, Loss: 0.05680689215660095\n",
      "Epoch 5300/10000, Loss: 0.05597180873155594\n",
      "Epoch 5400/10000, Loss: 0.055167701095342636\n",
      "Epoch 5500/10000, Loss: 0.05439303442835808\n",
      "Epoch 5600/10000, Loss: 0.053646333515644073\n",
      "Epoch 5700/10000, Loss: 0.05292624607682228\n",
      "Epoch 5800/10000, Loss: 0.05223148316144943\n",
      "Epoch 5900/10000, Loss: 0.05156082659959793\n",
      "Epoch 6000/10000, Loss: 0.05091315507888794\n",
      "Epoch 6100/10000, Loss: 0.050287388265132904\n",
      "Epoch 6200/10000, Loss: 0.049682505428791046\n",
      "Epoch 6300/10000, Loss: 0.049097560346126556\n",
      "Epoch 6400/10000, Loss: 0.04853165149688721\n",
      "Epoch 6500/10000, Loss: 0.04798395186662674\n",
      "Epoch 6600/10000, Loss: 0.04745364189147949\n",
      "Epoch 6700/10000, Loss: 0.046939969062805176\n",
      "Epoch 6800/10000, Loss: 0.04644221439957619\n",
      "Epoch 6900/10000, Loss: 0.0459597073495388\n",
      "Epoch 7000/10000, Loss: 0.04549180716276169\n",
      "Epoch 7100/10000, Loss: 0.0450378879904747\n",
      "Epoch 7200/10000, Loss: 0.04459739103913307\n",
      "Epoch 7300/10000, Loss: 0.04416976496577263\n",
      "Epoch 7400/10000, Loss: 0.04375448822975159\n",
      "Epoch 7500/10000, Loss: 0.04335107281804085\n",
      "Epoch 7600/10000, Loss: 0.04295904189348221\n",
      "Epoch 7700/10000, Loss: 0.042577970772981644\n",
      "Epoch 7800/10000, Loss: 0.042207419872283936\n",
      "Epoch 7900/10000, Loss: 0.04184698686003685\n",
      "Epoch 8000/10000, Loss: 0.04149629548192024\n",
      "Epoch 8100/10000, Loss: 0.041154973208904266\n",
      "Epoch 8200/10000, Loss: 0.040822673588991165\n",
      "Epoch 8300/10000, Loss: 0.040499065071344376\n",
      "Epoch 8400/10000, Loss: 0.04018384590744972\n",
      "Epoch 8500/10000, Loss: 0.03987669572234154\n",
      "Epoch 8600/10000, Loss: 0.03957733139395714\n",
      "Epoch 8700/10000, Loss: 0.03928547725081444\n",
      "Epoch 8800/10000, Loss: 0.03900088369846344\n",
      "Epoch 8900/10000, Loss: 0.03872327879071236\n",
      "Epoch 9000/10000, Loss: 0.03845243528485298\n",
      "Epoch 9100/10000, Loss: 0.03818812593817711\n",
      "Epoch 9200/10000, Loss: 0.03793012723326683\n",
      "Epoch 9300/10000, Loss: 0.037678223103284836\n",
      "Epoch 9400/10000, Loss: 0.037432219833135605\n",
      "Epoch 9500/10000, Loss: 0.03719192370772362\n",
      "Epoch 9600/10000, Loss: 0.03695714846253395\n",
      "Epoch 9700/10000, Loss: 0.03672771528363228\n",
      "Epoch 9800/10000, Loss: 0.03650345653295517\n",
      "Epoch 9900/10000, Loss: 0.03628421202301979\n",
      "Epoch 10000/10000, Loss: 0.036069806665182114\n"
     ]
    }
   ],
   "source": [
    "# Define the input and target tensors for the 50-2-50 task\n",
    "inputs = torch.eye(50) # Eye is basically an identity matrix, which fulfills the task pre-requirements. \n",
    "targets = inputs.clone()\n",
    "\n",
    "# Create and train the model\n",
    "model = MLP(50, 2, 50)\n",
    "model, losses = train(model, inputs, targets, num_epochs=10000, learning_rate=0.1)\n",
    "predictions = model.predict(inputs)"
   ]
  },
  {
   "cell_type": "code",
   "execution_count": 14,
   "metadata": {},
   "outputs": [
    {
     "data": {
      "image/png": "[encoded data removed]",
      "text/plain": [
       "<Figure size 640x480 with 1 Axes>"
      ]
     },
     "metadata": {},
     "output_type": "display_data"
    }
   ],
   "source": [
    "# Plot the learning curve\n",
    "plt.plot(losses)\n",
    "plt.xlabel('Epoch')\n",
    "plt.ylabel('Loss')\n",
    "plt.show()"
   ]
  },
  {
   "cell_type": "markdown",
   "metadata": {},
   "source": [
    "The achieved loss is lower as expected. The amount of model parameters is higher, thus it is easier to train the model for this simple problem. Because of the higher number of parameters, model may as well be overfitted to the problem.\n",
    "There's also no use in visualizing the hidden states, as there's a lot of them and if the previous hidden states in 8-2-8 and 8-3-8 scenarios were hard to explain, then in 50-2-50 scenario, it's inpossible."
   ]
  }
 ],
 "metadata": {
  "kernelspec": {
   "display_name": "CuVi",
   "language": "python",
   "name": "python3"
  },
  "language_info": {
   "codemirror_mode": {
    "name": "ipython",
    "version": 3
   },
   "file_extension": ".py",
   "mimetype": "text/x-python",
   "name": "python",
   "nbconvert_exporter": "python",
   "pygments_lexer": "ipython3",
   "version": "3.11.5"
  }
 },
 "nbformat": 4,
 "nbformat_minor": 2
}
