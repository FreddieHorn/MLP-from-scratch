{
 "cells": [
  {
   "cell_type": "code",
   "execution_count": 8,
   "metadata": {},
   "outputs": [],
   "source": [
    "import numpy as np\n",
    "import math"
   ]
  },
  {
   "cell_type": "code",
   "execution_count": 11,
   "metadata": {},
   "outputs": [],
   "source": [
    "class MSOM:\n",
    "    def __init__(self, M, N, g, K, eta0, eta_end, s):\n",
    "        self.M = M\n",
    "        self.N = N\n",
    "        self.K = K\n",
    "        self.eta0 = eta0\n",
    "        self.eta_end = eta_end\n",
    "        self.s = s\n",
    "        g = math.ceil(math.sqrt(K))  # Ensure the grid size is large enough\n",
    "        self.neurons = np.random.rand(M, K, N) # random initiali\n",
    "        self.grid = np.indices((g, g)).reshape(2, -1).T[:K]  # Limit the grid size to K\n",
    "        \n",
    "    def train(self, X, epochs):\n",
    "        for epoch in range(epochs):\n",
    "            eta = self.eta0 * (self.eta_end / self.eta0) ** (epoch / epochs)\n",
    "            for x in X:\n",
    "                dists = np.sum((self.neurons - x) ** 2, axis=2)\n",
    "                bmu = np.unravel_index(np.argmin(dists), (self.M, self.K))\n",
    "                d = np.sum((self.grid - self.grid[bmu[1]]) ** 2, axis=1)\n",
    "                h = np.exp(-d / (2 * self.s ** 2))\n",
    "                self.neurons[bmu[0]] += eta * h[:, np.newaxis] * (x - self.neurons[bmu[0]])\n",
    "\n",
    "    def save(self, filename):\n",
    "        np.savetxt(filename, self.neurons.reshape(self.M * self.K, self.N))\n"
   ]
  },
  {
   "cell_type": "code",
   "execution_count": 12,
   "metadata": {},
   "outputs": [],
   "source": [
    "# Generate training patterns\n",
    "X = np.concatenate([np.random.rand(500, 2) / 2, np.random.rand(500, 2) / 2 + 0.5])\n",
    "\n",
    "# Initialize and train the network\n",
    "msom = MSOM(M=4, N=2, g=2, K=10, eta0=0.1, eta_end=0.01, s=1.0)\n",
    "msom.train(X, epochs=100)\n",
    "\n",
    "# Save the network\n",
    "msom.save('PA-D_net.txt')"
   ]
  }
 ],
 "metadata": {
  "kernelspec": {
   "display_name": "CuVi",
   "language": "python",
   "name": "python3"
  },
  "language_info": {
   "codemirror_mode": {
    "name": "ipython",
    "version": 3
   },
   "file_extension": ".py",
   "mimetype": "text/x-python",
   "name": "python",
   "nbconvert_exporter": "python",
   "pygments_lexer": "ipython3",
   "version": "3.11.5"
  }
 },
 "nbformat": 4,
 "nbformat_minor": 2
}
